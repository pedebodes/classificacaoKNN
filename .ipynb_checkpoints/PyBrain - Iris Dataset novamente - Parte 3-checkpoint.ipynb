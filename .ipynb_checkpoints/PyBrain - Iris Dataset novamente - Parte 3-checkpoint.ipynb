{
 "cells": [
  {
   "cell_type": "code",
   "execution_count": 41,
   "metadata": {
    "collapsed": false
   },
   "outputs": [
    {
     "name": "stdout",
     "output_type": "stream",
     "text": [
      "Antes do _convertToOneOfMany...\n",
      "[[2]\n",
      " [2]\n",
      " [0]\n",
      " [2]\n",
      " [1]]\n",
      "Depois do _convertToOneOfMany...\n",
      "[[0 0 1]\n",
      " [0 0 1]\n",
      " [1 0 0]\n",
      " [0 0 1]\n",
      " [0 1 0]]\n",
      "-------------------------------------------\n",
      "Erro de teste: 3.333333\n",
      "Erro de validação: 10.000000\n",
      "-------------------------------------------\n",
      "Validação\n",
      "saída da rede:\t [2 1 1 0 2 2 1 2 2 1 0 2 0 1 0 2 1 1 0 0 1 0 2 2 2 0 0 2 2 1]\n",
      "correto:\t [2 1 1 0 2 2 1 2 2 1 0 2 0 2 0 2 1 1 0 0 2 0 2 2 2 0 0 1 2 1]\n"
     ]
    }
   ],
   "source": [
    "from sklearn import datasets\n",
    "from pybrain.datasets.classification import ClassificationDataSet\n",
    "from pybrain.tools.shortcuts import buildNetwork\n",
    "from pybrain.supervised.trainers import BackpropTrainer\n",
    "\n",
    "iris = datasets.load_iris()\n",
    "X, y = iris.data, iris.target\n",
    "dataset = ClassificationDataSet(4, 1, nb_classes=3)\n",
    "for i in range(len(X)):\n",
    "    dataset.addSample(X[i], y[i])\n",
    "    \n",
    "train_data_temp, part_data_temp = dataset.splitWithProportion(0.6)\n",
    "test_data_temp, val_data_temp = part_data.splitWithProportion(0.5)\n",
    "\n",
    "train_data = ClassificationDataSet(4, 1, nb_classes=3)\n",
    "for n in range(train_data_temp.getLength()):\n",
    "    train_data.addSample(train_data_temp.getSample(n)[0], train_data_temp.getSample(n)[1])\n",
    "\n",
    "test_data = ClassificationDataSet(4, 1, nb_classes=3)\n",
    "for n in range(test_data_temp.getLength()):\n",
    "    test_data.addSample(test_data_temp.getSample(n)[0], test_data_temp.getSample(n)[1])\n",
    "    \n",
    "val_data = ClassificationDataSet(4, 1, nb_classes=3)\n",
    "for n in range(val_data_temp.getLength()):\n",
    "    val_data.addSample(val_data_temp.getSample(n)[0], val_data_temp.getSample(n)[1])\n",
    "    \n",
    "print('Antes do _convertToOneOfMany...')\n",
    "print(train_data['target'][:5])\n",
    "\n",
    "train_data._convertToOneOfMany()\n",
    "test_data._convertToOneOfMany()\n",
    "val_data._convertToOneOfMany()\n",
    "\n",
    "print('Depois do _convertToOneOfMany...')\n",
    "print(train_data['target'][:5])\n",
    "\n",
    "print('-------------------------------------------')\n",
    "\n",
    "from pybrain.structure.modules import SoftmaxLayer\n",
    "\n",
    "net = buildNetwork(4, 5, 3, outclass=SoftmaxLayer)\n",
    "trainer = BackpropTrainer(net, dataset=train_data, learningrate=0.01, momentum=0.5)\n",
    "trainer.trainOnDataset(train_data, 100)\n",
    "\n",
    "from pybrain.utilities import percentError\n",
    "\n",
    "out = net.activateOnDataset(test_data).argmax(axis=1)\n",
    "print('Erro de teste: %f' % percentError(out, test_data['class']))\n",
    "\n",
    "import numpy\n",
    "\n",
    "out = net.activateOnDataset(val_data).argmax(axis=1)\n",
    "print('Erro de validação: %f' % percentError(out, val_data['class']))\n",
    "\n",
    "print('-------------------------------------------')\n",
    "\n",
    "print('Validação')\n",
    "print('saída da rede:\\t', out)\n",
    "print('correto:\\t', val_data['class'][:,0])"
   ]
  }
 ],
 "metadata": {
  "kernelspec": {
   "display_name": "Python 3",
   "language": "python",
   "name": "python3"
  },
  "language_info": {
   "codemirror_mode": {
    "name": "ipython",
    "version": 3
   },
   "file_extension": ".py",
   "mimetype": "text/x-python",
   "name": "python",
   "nbconvert_exporter": "python",
   "pygments_lexer": "ipython3",
   "version": "3.4.3"
  }
 },
 "nbformat": 4,
 "nbformat_minor": 1
}
